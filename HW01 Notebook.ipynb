{
 "cells": [
  {
   "cell_type": "code",
   "execution_count": 1,
   "id": "opened-billion",
   "metadata": {},
   "outputs": [],
   "source": [
    "url = 'https://www.gutenberg.org/files/2600/2600-0.txt'"
   ]
  },
  {
   "cell_type": "code",
   "execution_count": 2,
   "id": "entertaining-bidding",
   "metadata": {},
   "outputs": [],
   "source": [
    "import requests"
   ]
  },
  {
   "cell_type": "code",
   "execution_count": 4,
   "id": "knowing-joseph",
   "metadata": {},
   "outputs": [],
   "source": [
    "resp = requests.get(url)"
   ]
  },
  {
   "cell_type": "code",
   "execution_count": 8,
   "id": "creative-moderator",
   "metadata": {},
   "outputs": [],
   "source": [
    "war_and_peace = resp.text"
   ]
  },
  {
   "cell_type": "code",
   "execution_count": 9,
   "id": "worth-theta",
   "metadata": {},
   "outputs": [
    {
     "name": "stdout",
     "output_type": "stream",
     "text": [
      "ï»¿The Project Gutenberg eBook of War and Peace, by Leo Tolstoy\r\n",
      "\r\n",
      "This eBook is for the use of anyone anywhere in the United States and\r\n",
      "most other parts of the world at no cost and with almost no restrictions\r\n",
      "whatsoever. You may copy it, give it away or re-use it under the terms\r\n",
      "of the Project Gutenberg License included with this eBook or online at\r\n",
      "www.gutenberg.org. If you are not located in the United States, you\r\n",
      "will have to check the laws of the country where you are located before\r\n",
      "using this eBook.\r\n",
      "\r\n",
      "Title: War and Peace\r\n",
      "\r\n",
      "Author: Leo Tolstoy\r\n",
      "\r\n",
      "Translators: Louise and Aylmer Maude\r\n",
      "\r\n",
      "Release Date: April, 2001 [eBook #2600]\r\n",
      "[Most recently updated: January 21, 2019]\r\n",
      "\r\n",
      "Language: English\r\n",
      "\r\n",
      "Character set encoding: UTF-8\r\n",
      "\r\n",
      "Produced by: An Anonymous Volunteer and David Widger\r\n",
      "\r\n",
      "*** START OF THE PROJECT GUTENBERG EBOOK WAR AND PEACE ***\r\n",
      "\r\n",
      "\r\n",
      "\r\n",
      "\r\n",
      "WAR AND PEACE\r\n",
      "\r\n",
      "\r\n",
      "By Leo Tolstoy/Tolstoi\r\n",
      "\r\n",
      "\r\n",
      "    Contents\r\n",
      "\r\n",
      "    BOOK ONE: 1805\r\n",
      "\r\n",
      "    CHAPTER I\r\n",
      "\r\n",
      "    CHAPTER II\r\n",
      "\r\n",
      "    CHAPTE\n"
     ]
    }
   ],
   "source": [
    "print(war_and_peace[:1000])"
   ]
  },
  {
   "cell_type": "code",
   "execution_count": 21,
   "id": "increased-grenada",
   "metadata": {},
   "outputs": [
    {
     "data": {
      "text/plain": [
       "'ï»¿the project gutenberg ebook of war and peace by leo tolstoy  this ebook is for the use of anyone anywhere in the united states and most other parts of the world at no cost and with almost no restrictions whatsoever you may copy it give it away or re-use it under the terms of the project gutenberg license included with this ebook or online at wwwgutenbergorg if you are not located in the united states you will have to check the laws of the country where you are located before using this ebook  title war and peace  author leo tolstoy  translators louise and aylmer maude  release date april 2001 ebook 2600 most recently updated january 21 2019  language english  character set encoding utf-8  produced by an anonymous volunteer and david widger  *** start of the project gutenberg ebook war and peace ***     war and peace   by leo tolstoy/tolstoi       contents      book one 1805      chapter i      chapter ii      chapter iii      chapter iv      chapter v      chapter vi      chapter vi'"
      ]
     },
     "execution_count": 21,
     "metadata": {},
     "output_type": "execute_result"
    }
   ],
   "source": [
    "# remove punctuation\n",
    "import re\n",
    "scrubbed = re.sub(r'[\\.\\#\\,\\'\\(\\)\\!\\?\\:\\;\\[\\]]', '', war_and_peace)\n",
    "# make case consistent\n",
    "\n",
    "scrubbed = scrubbed.lower()\n",
    "scrubbed = scrubbed.replace('\\r\\n', ' ')\n",
    "scrubbed[:1000]"
   ]
  },
  {
   "cell_type": "code",
   "execution_count": 26,
   "id": "positive-bench",
   "metadata": {},
   "outputs": [],
   "source": [
    "unique_scrubbed = set(scrubbed.split())"
   ]
  },
  {
   "cell_type": "code",
   "execution_count": 27,
   "id": "nominated-weekend",
   "metadata": {},
   "outputs": [
    {
     "data": {
      "text/plain": [
       "24137"
      ]
     },
     "execution_count": 27,
     "metadata": {},
     "output_type": "execute_result"
    }
   ],
   "source": [
    "len(unique_scrubbed)"
   ]
  },
  {
   "cell_type": "code",
   "execution_count": 28,
   "id": "genuine-grass",
   "metadata": {},
   "outputs": [],
   "source": [
    "from collections import Counter"
   ]
  },
  {
   "cell_type": "code",
   "execution_count": 29,
   "id": "convinced-correction",
   "metadata": {},
   "outputs": [],
   "source": [
    "counter = Counter()\n",
    "for word in scrubbed.split():\n",
    "    counter[word] += 1"
   ]
  },
  {
   "cell_type": "code",
   "execution_count": 31,
   "id": "compatible-bishop",
   "metadata": {},
   "outputs": [
    {
     "data": {
      "text/plain": [
       "24137"
      ]
     },
     "execution_count": 31,
     "metadata": {},
     "output_type": "execute_result"
    }
   ],
   "source": [
    "len(counter)"
   ]
  },
  {
   "cell_type": "code",
   "execution_count": 32,
   "id": "parliamentary-elite",
   "metadata": {},
   "outputs": [
    {
     "name": "stdout",
     "output_type": "stream",
     "text": [
      "DATA 603_FA21_Enkeboll.docx Untitled.ipynb\r\n",
      "\u001b[1m\u001b[36mDATA603_11484_SP2021\u001b[m\u001b[m        \u001b[1m\u001b[36mhadoop-single-node-cluster\u001b[m\u001b[m\r\n"
     ]
    }
   ],
   "source": [
    "!ls"
   ]
  },
  {
   "cell_type": "code",
   "execution_count": 33,
   "id": "leading-thought",
   "metadata": {},
   "outputs": [
    {
     "name": "stdout",
     "output_type": "stream",
     "text": [
      "enkeboll\r\n"
     ]
    }
   ],
   "source": [
    "!whoami"
   ]
  },
  {
   "cell_type": "code",
   "execution_count": 44,
   "id": "royal-apple",
   "metadata": {},
   "outputs": [
    {
     "name": "stdout",
     "output_type": "stream",
     "text": [
      "  % Total    % Received % Xferd  Average Speed   Time    Time     Time  Current\n",
      "                                 Dload  Upload   Total   Spent    Left  Speed\n",
      "100 3280k  100 3280k    0     0  3004k      0  0:00:01  0:00:01 --:--:-- 3004k\n",
      "   26776\n"
     ]
    }
   ],
   "source": [
    "!curl https://www.gutenberg.org/files/2600/2600-0.txt | tr -d '[:punct:]' | tr '[:upper:]' '[:lower:]' | tr ' ' '\\n' | sort | uniq | wc -l"
   ]
  },
  {
   "cell_type": "code",
   "execution_count": null,
   "id": "found-lying",
   "metadata": {},
   "outputs": [],
   "source": []
  }
 ],
 "metadata": {
  "kernelspec": {
   "display_name": "Python 3",
   "language": "python",
   "name": "python3"
  },
  "language_info": {
   "codemirror_mode": {
    "name": "ipython",
    "version": 3
   },
   "file_extension": ".py",
   "mimetype": "text/x-python",
   "name": "python",
   "nbconvert_exporter": "python",
   "pygments_lexer": "ipython3",
   "version": "3.8.6"
  }
 },
 "nbformat": 4,
 "nbformat_minor": 5
}
