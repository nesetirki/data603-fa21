{
 "cells": [
  {
   "cell_type": "code",
   "execution_count": 2,
   "id": "7eca65d2",
   "metadata": {},
   "outputs": [
    {
     "name": "stderr",
     "output_type": "stream",
     "text": [
      "WARNING: An illegal reflective access operation has occurred\n",
      "WARNING: Illegal reflective access by org.apache.spark.unsafe.Platform (file:/usr/local/spark-3.1.2-bin-hadoop3.2/jars/spark-unsafe_2.12-3.1.2.jar) to constructor java.nio.DirectByteBuffer(long,int)\n",
      "WARNING: Please consider reporting this to the maintainers of org.apache.spark.unsafe.Platform\n",
      "WARNING: Use --illegal-access=warn to enable warnings of further illegal reflective access operations\n",
      "WARNING: All illegal access operations will be denied in a future release\n",
      "21/10/06 22:09:37 WARN NativeCodeLoader: Unable to load native-hadoop library for your platform... using builtin-java classes where applicable\n",
      "Using Spark's default log4j profile: org/apache/spark/log4j-defaults.properties\n",
      "Setting default log level to \"WARN\".\n",
      "To adjust logging level use sc.setLogLevel(newLevel). For SparkR, use setLogLevel(newLevel).\n"
     ]
    }
   ],
   "source": [
    "from pyspark.sql import SparkSession\n",
    "spark = (SparkSession.builder\n",
    "    .master(\"local\")\n",
    "    .appName(\"hw4\")\n",
    "    .getOrCreate())"
   ]
  },
  {
   "cell_type": "code",
   "execution_count": 3,
   "id": "a68ecc1d",
   "metadata": {},
   "outputs": [
    {
     "data": {
      "text/html": [
       "\n",
       "            <div>\n",
       "                <p><b>SparkSession - in-memory</b></p>\n",
       "                \n",
       "        <div>\n",
       "            <p><b>SparkContext</b></p>\n",
       "\n",
       "            <p><a href=\"http://93fad206794e:4040\">Spark UI</a></p>\n",
       "\n",
       "            <dl>\n",
       "              <dt>Version</dt>\n",
       "                <dd><code>v3.1.2</code></dd>\n",
       "              <dt>Master</dt>\n",
       "                <dd><code>local</code></dd>\n",
       "              <dt>AppName</dt>\n",
       "                <dd><code>hw4</code></dd>\n",
       "            </dl>\n",
       "        </div>\n",
       "        \n",
       "            </div>\n",
       "        "
      ],
      "text/plain": [
       "<pyspark.sql.session.SparkSession at 0x7ff66835fa30>"
      ]
     },
     "execution_count": 3,
     "metadata": {},
     "output_type": "execute_result"
    }
   ],
   "source": [
    "spark"
   ]
  },
  {
   "cell_type": "markdown",
   "id": "2193d611",
   "metadata": {},
   "source": [
    "1. Specify the schema for the crime data set. (https://sparkbyexamples.com/pyspark/pyspark-structtype-and-structfield/)\n",
    "2. Read the file using the schema definition\n",
    "3. Cache the DataFrame (https://sparkbyexamples.com/spark/spark-dataframe-cache-and-persist-explained/)\n",
    "4. Show the count of the rows\n",
    "5. Print the schema\n",
    "6. Display first 5 rows\n",
    "\n",
    "Answer following questions using PySpark\n",
    "1. What are distinct crime codes?\n",
    "2. Count the number of crimes by the crime codes and order by the resulting counts in descending order\n",
    "3. Which neighborhood had most crimes?\n",
    "4. Which month of the year had most crimes?\n",
    "5. What weapons were used? \n",
    "6. Which weapon was used the most? "
   ]
  },
  {
   "cell_type": "code",
   "execution_count": 5,
   "id": "5617f72d",
   "metadata": {},
   "outputs": [],
   "source": [
    "!head -n100 Part1_Crime_data.csv > sample.csv"
   ]
  },
  {
   "cell_type": "code",
   "execution_count": 8,
   "id": "f68bcf09",
   "metadata": {},
   "outputs": [
    {
     "name": "stdout",
     "output_type": "stream",
     "text": [
      "  100   689 18946\r\n"
     ]
    }
   ],
   "source": [
    "!wc < sample.csv"
   ]
  },
  {
   "cell_type": "code",
   "execution_count": 13,
   "id": "dbadfbfa",
   "metadata": {},
   "outputs": [],
   "source": [
    "df1 = spark.read.csv('sample.csv', header=True, inferSchema=True)"
   ]
  },
  {
   "cell_type": "code",
   "execution_count": 14,
   "id": "a7e276ff",
   "metadata": {},
   "outputs": [
    {
     "name": "stdout",
     "output_type": "stream",
     "text": [
      "root\n",
      " |-- X: double (nullable = true)\n",
      " |-- Y: double (nullable = true)\n",
      " |-- RowID: integer (nullable = true)\n",
      " |-- CrimeDateTime: string (nullable = true)\n",
      " |-- CrimeCode: string (nullable = true)\n",
      " |-- Location: string (nullable = true)\n",
      " |-- Description: string (nullable = true)\n",
      " |-- Inside_Outside: string (nullable = true)\n",
      " |-- Weapon: string (nullable = true)\n",
      " |-- Post: integer (nullable = true)\n",
      " |-- District: string (nullable = true)\n",
      " |-- Neighborhood: string (nullable = true)\n",
      " |-- Latitude: double (nullable = true)\n",
      " |-- Longitude: double (nullable = true)\n",
      " |-- GeoLocation: string (nullable = true)\n",
      " |-- Premise: string (nullable = true)\n",
      " |-- VRIName: string (nullable = true)\n",
      " |-- Total_Incidents: integer (nullable = true)\n",
      "\n"
     ]
    }
   ],
   "source": [
    "df1.printSchema()"
   ]
  },
  {
   "cell_type": "code",
   "execution_count": 21,
   "id": "af926dde",
   "metadata": {},
   "outputs": [
    {
     "data": {
      "text/plain": [
       "StructType(List(StructField(X,DoubleType,true),StructField(Y,DoubleType,true),StructField(RowID,IntegerType,true),StructField(CrimeDateTime,StringType,true),StructField(CrimeCode,StringType,true),StructField(Location,StringType,true),StructField(Description,StringType,true),StructField(Inside_Outside,StringType,true),StructField(Weapon,StringType,true),StructField(Post,IntegerType,true),StructField(District,StringType,true),StructField(Neighborhood,StringType,true),StructField(Latitude,DoubleType,true),StructField(Longitude,DoubleType,true),StructField(GeoLocation,StringType,true),StructField(Premise,StringType,true),StructField(VRIName,StringType,true),StructField(Total_Incidents,IntegerType,true)))"
      ]
     },
     "execution_count": 21,
     "metadata": {},
     "output_type": "execute_result"
    }
   ],
   "source": [
    "df1.schema"
   ]
  },
  {
   "cell_type": "code",
   "execution_count": 18,
   "id": "3625ad0b",
   "metadata": {},
   "outputs": [],
   "source": [
    "from pyspark.sql.types import *"
   ]
  },
  {
   "cell_type": "code",
   "execution_count": 24,
   "id": "0bedc330",
   "metadata": {},
   "outputs": [],
   "source": [
    "schema = [StructField(\"X\", DoubleType(), True),\n",
    " StructField(\"Y\", DoubleType(), True),\n",
    " StructField(\"RowID\", IntegerType(), True),\n",
    " StructField(\"CrimeDateTime\", TimestampType(), True),\n",
    " StructField(\"CrimeCode\", StringType(), True),\n",
    " StructField(\"Location\", StringType(), True),\n",
    " StructField(\"Description\", StringType(), True),\n",
    " StructField(\"Inside_Outside\", StringType(), True),\n",
    " StructField(\"Weapon\", StringType(), True),\n",
    " StructField(\"Post\", IntegerType(), True),\n",
    " StructField(\"District\", StringType(), True),\n",
    " StructField(\"Neighborhood\", StringType(), True),\n",
    " StructField(\"Latitude\", DoubleType(), True),\n",
    " StructField(\"Longitude\", DoubleType(), True),\n",
    " StructField(\"GeoLocation\", StringType(), True),\n",
    " StructField(\"Premise\", StringType(), True),\n",
    " StructField(\"VRIName\", StringType(), True),\n",
    " StructField(\"Total_Incidents\", IntegerType(), True)]"
   ]
  },
  {
   "cell_type": "code",
   "execution_count": 35,
   "id": "ca4d8733",
   "metadata": {},
   "outputs": [],
   "source": [
    "df2 = spark.read.csv('sample.csv', header=True, schema=StructType(schema), timestampFormat='yyyy/MM/dd HH:mm:ssX')"
   ]
  },
  {
   "cell_type": "code",
   "execution_count": 36,
   "id": "b3e4a707",
   "metadata": {},
   "outputs": [
    {
     "name": "stdout",
     "output_type": "stream",
     "text": [
      "root\n",
      " |-- X: double (nullable = true)\n",
      " |-- Y: double (nullable = true)\n",
      " |-- RowID: integer (nullable = true)\n",
      " |-- CrimeDateTime: timestamp (nullable = true)\n",
      " |-- CrimeCode: string (nullable = true)\n",
      " |-- Location: string (nullable = true)\n",
      " |-- Description: string (nullable = true)\n",
      " |-- Inside_Outside: string (nullable = true)\n",
      " |-- Weapon: string (nullable = true)\n",
      " |-- Post: integer (nullable = true)\n",
      " |-- District: string (nullable = true)\n",
      " |-- Neighborhood: string (nullable = true)\n",
      " |-- Latitude: double (nullable = true)\n",
      " |-- Longitude: double (nullable = true)\n",
      " |-- GeoLocation: string (nullable = true)\n",
      " |-- Premise: string (nullable = true)\n",
      " |-- VRIName: string (nullable = true)\n",
      " |-- Total_Incidents: integer (nullable = true)\n",
      "\n"
     ]
    }
   ],
   "source": [
    "df2.printSchema()"
   ]
  },
  {
   "cell_type": "code",
   "execution_count": 38,
   "id": "2fa45b0f",
   "metadata": {},
   "outputs": [
    {
     "data": {
      "text/html": [
       "<div>\n",
       "<style scoped>\n",
       "    .dataframe tbody tr th:only-of-type {\n",
       "        vertical-align: middle;\n",
       "    }\n",
       "\n",
       "    .dataframe tbody tr th {\n",
       "        vertical-align: top;\n",
       "    }\n",
       "\n",
       "    .dataframe thead th {\n",
       "        text-align: right;\n",
       "    }\n",
       "</style>\n",
       "<table border=\"1\" class=\"dataframe\">\n",
       "  <thead>\n",
       "    <tr style=\"text-align: right;\">\n",
       "      <th></th>\n",
       "      <th>X</th>\n",
       "      <th>Y</th>\n",
       "      <th>RowID</th>\n",
       "      <th>CrimeDateTime</th>\n",
       "      <th>CrimeCode</th>\n",
       "      <th>Location</th>\n",
       "      <th>Description</th>\n",
       "      <th>Inside_Outside</th>\n",
       "      <th>Weapon</th>\n",
       "      <th>Post</th>\n",
       "      <th>District</th>\n",
       "      <th>Neighborhood</th>\n",
       "      <th>Latitude</th>\n",
       "      <th>Longitude</th>\n",
       "      <th>GeoLocation</th>\n",
       "      <th>Premise</th>\n",
       "      <th>VRIName</th>\n",
       "      <th>Total_Incidents</th>\n",
       "    </tr>\n",
       "  </thead>\n",
       "  <tbody>\n",
       "    <tr>\n",
       "      <th>0</th>\n",
       "      <td>1.421661e+06</td>\n",
       "      <td>593584.491988</td>\n",
       "      <td>1</td>\n",
       "      <td>2021-09-24 08:00:00</td>\n",
       "      <td>6D</td>\n",
       "      <td>500 SAINT PAUL ST APT 118</td>\n",
       "      <td>LARCENY FROM AUTO</td>\n",
       "      <td>None</td>\n",
       "      <td>NA</td>\n",
       "      <td>124</td>\n",
       "      <td>CENTRAL</td>\n",
       "      <td>MOUNT VERNON</td>\n",
       "      <td>39.2959</td>\n",
       "      <td>-76.6137</td>\n",
       "      <td>(39.2959,-76.6137)</td>\n",
       "      <td>None</td>\n",
       "      <td>None</td>\n",
       "      <td>1</td>\n",
       "    </tr>\n",
       "  </tbody>\n",
       "</table>\n",
       "</div>"
      ],
      "text/plain": [
       "              X              Y  RowID       CrimeDateTime CrimeCode  \\\n",
       "0  1.421661e+06  593584.491988      1 2021-09-24 08:00:00        6D   \n",
       "\n",
       "                    Location        Description Inside_Outside Weapon  Post  \\\n",
       "0  500 SAINT PAUL ST APT 118  LARCENY FROM AUTO           None     NA   124   \n",
       "\n",
       "  District  Neighborhood  Latitude  Longitude         GeoLocation Premise  \\\n",
       "0  CENTRAL  MOUNT VERNON   39.2959   -76.6137  (39.2959,-76.6137)    None   \n",
       "\n",
       "  VRIName  Total_Incidents  \n",
       "0    None                1  "
      ]
     },
     "execution_count": 38,
     "metadata": {},
     "output_type": "execute_result"
    }
   ],
   "source": [
    "df2.limit(1).toPandas()"
   ]
  },
  {
   "cell_type": "code",
   "execution_count": 39,
   "id": "96d75b0c",
   "metadata": {},
   "outputs": [
    {
     "data": {
      "text/html": [
       "<style>pre { white-space: pre !important; }</style>"
      ],
      "text/plain": [
       "<IPython.core.display.HTML object>"
      ]
     },
     "metadata": {},
     "output_type": "display_data"
    }
   ],
   "source": [
    "from IPython.core.display import HTML\n",
    "display(HTML(\"<style>pre { white-space: pre !important; }</style>\"))"
   ]
  },
  {
   "cell_type": "code",
   "execution_count": 40,
   "id": "e5e28219",
   "metadata": {},
   "outputs": [
    {
     "name": "stdout",
     "output_type": "stream",
     "text": [
      "+----------------+----------------+-----+-------------------+---------+--------------------+-----------------+--------------+------+----+--------+------------+--------+---------+------------------+-------+-------+---------------+\n",
      "|               X|               Y|RowID|      CrimeDateTime|CrimeCode|            Location|      Description|Inside_Outside|Weapon|Post|District|Neighborhood|Latitude|Longitude|       GeoLocation|Premise|VRIName|Total_Incidents|\n",
      "+----------------+----------------+-----+-------------------+---------+--------------------+-----------------+--------------+------+----+--------+------------+--------+---------+------------------+-------+-------+---------------+\n",
      "|1421661.41979823|593584.491988032|    1|2021-09-24 08:00:00|       6D|500 SAINT PAUL ST...|LARCENY FROM AUTO|          null|    NA| 124| CENTRAL|MOUNT VERNON| 39.2959| -76.6137|(39.2959,-76.6137)|   null|   null|              1|\n",
      "+----------------+----------------+-----+-------------------+---------+--------------------+-----------------+--------------+------+----+--------+------------+--------+---------+------------------+-------+-------+---------------+\n",
      "only showing top 1 row\n",
      "\n"
     ]
    }
   ],
   "source": [
    "df2.show(1)"
   ]
  },
  {
   "cell_type": "code",
   "execution_count": 41,
   "id": "48235f6e",
   "metadata": {},
   "outputs": [
    {
     "name": "stdout",
     "output_type": "stream",
     "text": [
      "root\n",
      " |-- X: double (nullable = true)\n",
      " |-- Y: double (nullable = true)\n",
      " |-- RowID: integer (nullable = true)\n",
      " |-- CrimeDateTime: timestamp (nullable = true)\n",
      " |-- CrimeCode: string (nullable = true)\n",
      " |-- Location: string (nullable = true)\n",
      " |-- Description: string (nullable = true)\n",
      " |-- Inside_Outside: string (nullable = true)\n",
      " |-- Weapon: string (nullable = true)\n",
      " |-- Post: integer (nullable = true)\n",
      " |-- District: string (nullable = true)\n",
      " |-- Neighborhood: string (nullable = true)\n",
      " |-- Latitude: double (nullable = true)\n",
      " |-- Longitude: double (nullable = true)\n",
      " |-- GeoLocation: string (nullable = true)\n",
      " |-- Premise: string (nullable = true)\n",
      " |-- VRIName: string (nullable = true)\n",
      " |-- Total_Incidents: integer (nullable = true)\n",
      "\n"
     ]
    }
   ],
   "source": [
    "df2.printSchema()"
   ]
  },
  {
   "cell_type": "code",
   "execution_count": 42,
   "id": "285491ae",
   "metadata": {},
   "outputs": [
    {
     "name": "stdout",
     "output_type": "stream",
     "text": [
      "+----------------+----------------+-----+-------------------+---------+--------------------+-----------------+--------------+------+----+---------+--------------+--------+---------+------------------+-------+-------+---------------+\n",
      "|               X|               Y|RowID|      CrimeDateTime|CrimeCode|            Location|      Description|Inside_Outside|Weapon|Post| District|  Neighborhood|Latitude|Longitude|       GeoLocation|Premise|VRIName|Total_Incidents|\n",
      "+----------------+----------------+-----+-------------------+---------+--------------------+-----------------+--------------+------+----+---------+--------------+--------+---------+------------------+-------+-------+---------------+\n",
      "|1421661.41979823|593584.491988032|    1|2021-09-24 08:00:00|       6D|500 SAINT PAUL ST...|LARCENY FROM AUTO|          null|    NA| 124|  CENTRAL|  MOUNT VERNON| 39.2959| -76.6137|(39.2959,-76.6137)|   null|   null|              1|\n",
      "| 1428629.5288007|592267.242233285|    2|2021-09-23 02:00:00|       6D|   0 N WASHINGTON ST|LARCENY FROM AUTO|          null|    NA| 212|SOUTHEAST|BUTCHER'S HILL| 39.2922| -76.5891|(39.2922,-76.5891)|   null|   null|              1|\n",
      "|1429981.57761244|593693.887064625|    3|2021-09-23 09:00:00|       6J|   400 N BRADFORD ST|          LARCENY|          null|    NA| 221|SOUTHEAST|MCELDERRY PARK| 39.2961| -76.5843|(39.2961,-76.5843)|   null|   null|              1|\n",
      "|1433589.46292226|590796.673322926|    4|2021-09-23 18:27:00|       6J|      300 S EAST AVE|          LARCENY|          null|    NA| 225|SOUTHEAST|  HIGHLANDTOWN| 39.2881| -76.5716|(39.2881,-76.5716)|   null|   null|              1|\n",
      "|1421304.25944155| 591033.33021645|    5|2021-09-23 23:00:00|       6D|      0 S CHARLES ST|LARCENY FROM AUTO|          null|    NA| 114|  CENTRAL|      DOWNTOWN| 39.2889|  -76.615| (39.2889,-76.615)|   null|   null|              1|\n",
      "+----------------+----------------+-----+-------------------+---------+--------------------+-----------------+--------------+------+----+---------+--------------+--------+---------+------------------+-------+-------+---------------+\n",
      "only showing top 5 rows\n",
      "\n"
     ]
    }
   ],
   "source": [
    "df2.show(5)"
   ]
  },
  {
   "cell_type": "code",
   "execution_count": 43,
   "id": "4590c189",
   "metadata": {},
   "outputs": [
    {
     "data": {
      "text/html": [
       "<div>\n",
       "<style scoped>\n",
       "    .dataframe tbody tr th:only-of-type {\n",
       "        vertical-align: middle;\n",
       "    }\n",
       "\n",
       "    .dataframe tbody tr th {\n",
       "        vertical-align: top;\n",
       "    }\n",
       "\n",
       "    .dataframe thead th {\n",
       "        text-align: right;\n",
       "    }\n",
       "</style>\n",
       "<table border=\"1\" class=\"dataframe\">\n",
       "  <thead>\n",
       "    <tr style=\"text-align: right;\">\n",
       "      <th></th>\n",
       "      <th>X</th>\n",
       "      <th>Y</th>\n",
       "      <th>RowID</th>\n",
       "      <th>CrimeDateTime</th>\n",
       "      <th>CrimeCode</th>\n",
       "      <th>Location</th>\n",
       "      <th>Description</th>\n",
       "      <th>Inside_Outside</th>\n",
       "      <th>Weapon</th>\n",
       "      <th>Post</th>\n",
       "      <th>District</th>\n",
       "      <th>Neighborhood</th>\n",
       "      <th>Latitude</th>\n",
       "      <th>Longitude</th>\n",
       "      <th>GeoLocation</th>\n",
       "      <th>Premise</th>\n",
       "      <th>VRIName</th>\n",
       "      <th>Total_Incidents</th>\n",
       "    </tr>\n",
       "  </thead>\n",
       "  <tbody>\n",
       "    <tr>\n",
       "      <th>0</th>\n",
       "      <td>1.421661e+06</td>\n",
       "      <td>593584.491988</td>\n",
       "      <td>1</td>\n",
       "      <td>2021-09-24 08:00:00</td>\n",
       "      <td>6D</td>\n",
       "      <td>500 SAINT PAUL ST APT 118</td>\n",
       "      <td>LARCENY FROM AUTO</td>\n",
       "      <td>None</td>\n",
       "      <td>NA</td>\n",
       "      <td>124</td>\n",
       "      <td>CENTRAL</td>\n",
       "      <td>MOUNT VERNON</td>\n",
       "      <td>39.2959</td>\n",
       "      <td>-76.6137</td>\n",
       "      <td>(39.2959,-76.6137)</td>\n",
       "      <td>None</td>\n",
       "      <td>None</td>\n",
       "      <td>1</td>\n",
       "    </tr>\n",
       "    <tr>\n",
       "      <th>1</th>\n",
       "      <td>1.428630e+06</td>\n",
       "      <td>592267.242233</td>\n",
       "      <td>2</td>\n",
       "      <td>2021-09-23 02:00:00</td>\n",
       "      <td>6D</td>\n",
       "      <td>0 N WASHINGTON ST</td>\n",
       "      <td>LARCENY FROM AUTO</td>\n",
       "      <td>None</td>\n",
       "      <td>NA</td>\n",
       "      <td>212</td>\n",
       "      <td>SOUTHEAST</td>\n",
       "      <td>BUTCHER'S HILL</td>\n",
       "      <td>39.2922</td>\n",
       "      <td>-76.5891</td>\n",
       "      <td>(39.2922,-76.5891)</td>\n",
       "      <td>None</td>\n",
       "      <td>None</td>\n",
       "      <td>1</td>\n",
       "    </tr>\n",
       "    <tr>\n",
       "      <th>2</th>\n",
       "      <td>1.429982e+06</td>\n",
       "      <td>593693.887065</td>\n",
       "      <td>3</td>\n",
       "      <td>2021-09-23 09:00:00</td>\n",
       "      <td>6J</td>\n",
       "      <td>400 N BRADFORD ST</td>\n",
       "      <td>LARCENY</td>\n",
       "      <td>None</td>\n",
       "      <td>NA</td>\n",
       "      <td>221</td>\n",
       "      <td>SOUTHEAST</td>\n",
       "      <td>MCELDERRY PARK</td>\n",
       "      <td>39.2961</td>\n",
       "      <td>-76.5843</td>\n",
       "      <td>(39.2961,-76.5843)</td>\n",
       "      <td>None</td>\n",
       "      <td>None</td>\n",
       "      <td>1</td>\n",
       "    </tr>\n",
       "    <tr>\n",
       "      <th>3</th>\n",
       "      <td>1.433589e+06</td>\n",
       "      <td>590796.673323</td>\n",
       "      <td>4</td>\n",
       "      <td>2021-09-23 18:27:00</td>\n",
       "      <td>6J</td>\n",
       "      <td>300 S EAST AVE</td>\n",
       "      <td>LARCENY</td>\n",
       "      <td>None</td>\n",
       "      <td>NA</td>\n",
       "      <td>225</td>\n",
       "      <td>SOUTHEAST</td>\n",
       "      <td>HIGHLANDTOWN</td>\n",
       "      <td>39.2881</td>\n",
       "      <td>-76.5716</td>\n",
       "      <td>(39.2881,-76.5716)</td>\n",
       "      <td>None</td>\n",
       "      <td>None</td>\n",
       "      <td>1</td>\n",
       "    </tr>\n",
       "    <tr>\n",
       "      <th>4</th>\n",
       "      <td>1.421304e+06</td>\n",
       "      <td>591033.330216</td>\n",
       "      <td>5</td>\n",
       "      <td>2021-09-23 23:00:00</td>\n",
       "      <td>6D</td>\n",
       "      <td>0 S CHARLES ST</td>\n",
       "      <td>LARCENY FROM AUTO</td>\n",
       "      <td>None</td>\n",
       "      <td>NA</td>\n",
       "      <td>114</td>\n",
       "      <td>CENTRAL</td>\n",
       "      <td>DOWNTOWN</td>\n",
       "      <td>39.2889</td>\n",
       "      <td>-76.6150</td>\n",
       "      <td>(39.2889,-76.615)</td>\n",
       "      <td>None</td>\n",
       "      <td>None</td>\n",
       "      <td>1</td>\n",
       "    </tr>\n",
       "  </tbody>\n",
       "</table>\n",
       "</div>"
      ],
      "text/plain": [
       "              X              Y  RowID       CrimeDateTime CrimeCode  \\\n",
       "0  1.421661e+06  593584.491988      1 2021-09-24 08:00:00        6D   \n",
       "1  1.428630e+06  592267.242233      2 2021-09-23 02:00:00        6D   \n",
       "2  1.429982e+06  593693.887065      3 2021-09-23 09:00:00        6J   \n",
       "3  1.433589e+06  590796.673323      4 2021-09-23 18:27:00        6J   \n",
       "4  1.421304e+06  591033.330216      5 2021-09-23 23:00:00        6D   \n",
       "\n",
       "                    Location        Description Inside_Outside Weapon  Post  \\\n",
       "0  500 SAINT PAUL ST APT 118  LARCENY FROM AUTO           None     NA   124   \n",
       "1          0 N WASHINGTON ST  LARCENY FROM AUTO           None     NA   212   \n",
       "2          400 N BRADFORD ST            LARCENY           None     NA   221   \n",
       "3             300 S EAST AVE            LARCENY           None     NA   225   \n",
       "4             0 S CHARLES ST  LARCENY FROM AUTO           None     NA   114   \n",
       "\n",
       "    District    Neighborhood  Latitude  Longitude         GeoLocation Premise  \\\n",
       "0    CENTRAL    MOUNT VERNON   39.2959   -76.6137  (39.2959,-76.6137)    None   \n",
       "1  SOUTHEAST  BUTCHER'S HILL   39.2922   -76.5891  (39.2922,-76.5891)    None   \n",
       "2  SOUTHEAST  MCELDERRY PARK   39.2961   -76.5843  (39.2961,-76.5843)    None   \n",
       "3  SOUTHEAST    HIGHLANDTOWN   39.2881   -76.5716  (39.2881,-76.5716)    None   \n",
       "4    CENTRAL        DOWNTOWN   39.2889   -76.6150   (39.2889,-76.615)    None   \n",
       "\n",
       "  VRIName  Total_Incidents  \n",
       "0    None                1  \n",
       "1    None                1  \n",
       "2    None                1  \n",
       "3    None                1  \n",
       "4    None                1  "
      ]
     },
     "execution_count": 43,
     "metadata": {},
     "output_type": "execute_result"
    }
   ],
   "source": [
    "df2.limit(5).toPandas()"
   ]
  },
  {
   "cell_type": "code",
   "execution_count": 45,
   "id": "363a57f4",
   "metadata": {},
   "outputs": [
    {
     "name": "stderr",
     "output_type": "stream",
     "text": [
      "21/10/06 22:38:08 WARN CacheManager: Asked to cache already cached data.\n"
     ]
    },
    {
     "data": {
      "text/plain": [
       "DataFrame[X: double, Y: double, RowID: int, CrimeDateTime: timestamp, CrimeCode: string, Location: string, Description: string, Inside_Outside: string, Weapon: string, Post: int, District: string, Neighborhood: string, Latitude: double, Longitude: double, GeoLocation: string, Premise: string, VRIName: string, Total_Incidents: int]"
      ]
     },
     "execution_count": 45,
     "metadata": {},
     "output_type": "execute_result"
    }
   ],
   "source": [
    "df2.persist()"
   ]
  },
  {
   "cell_type": "markdown",
   "id": "0f59e44f",
   "metadata": {},
   "source": [
    "\n",
    "1. What are distinct crime codes?\n",
    "2. Count the number of crimes by the crime codes and order by the resulting counts in descending order\n",
    "3. Which neighborhood had most crimes?\n",
    "4. Which month of the year had most crimes?\n",
    "5. What weapons were used? \n",
    "6. Which weapon was used the most? "
   ]
  },
  {
   "cell_type": "code",
   "execution_count": 48,
   "id": "6dedcdd0",
   "metadata": {},
   "outputs": [
    {
     "name": "stderr",
     "output_type": "stream",
     "text": [
      "                                                                                \r"
     ]
    },
    {
     "data": {
      "text/plain": [
       "[Row(CrimeCode='1A'),\n",
       " Row(CrimeCode='2A'),\n",
       " Row(CrimeCode='3AF'),\n",
       " Row(CrimeCode='3B'),\n",
       " Row(CrimeCode='3GF'),\n",
       " Row(CrimeCode='4A'),\n",
       " Row(CrimeCode='4B'),\n",
       " Row(CrimeCode='4C'),\n",
       " Row(CrimeCode='4D'),\n",
       " Row(CrimeCode='4E'),\n",
       " Row(CrimeCode='5B'),\n",
       " Row(CrimeCode='6C'),\n",
       " Row(CrimeCode='6D'),\n",
       " Row(CrimeCode='6J'),\n",
       " Row(CrimeCode='6L'),\n",
       " Row(CrimeCode='7A'),\n",
       " Row(CrimeCode='9S')]"
      ]
     },
     "execution_count": 48,
     "metadata": {},
     "output_type": "execute_result"
    }
   ],
   "source": [
    "df2.select('CrimeCode').distinct().sort('CrimeCode').collect()"
   ]
  },
  {
   "cell_type": "code",
   "execution_count": 51,
   "id": "b9f6ce6f",
   "metadata": {},
   "outputs": [],
   "source": [
    "from pyspark.sql.functions import *"
   ]
  },
  {
   "cell_type": "code",
   "execution_count": 52,
   "id": "a66b8391",
   "metadata": {},
   "outputs": [
    {
     "name": "stderr",
     "output_type": "stream",
     "text": [
      "                                                                                \r"
     ]
    },
    {
     "data": {
      "text/plain": [
       "[Row(CrimeCode='4E', crime_count=25),\n",
       " Row(CrimeCode='6D', crime_count=21),\n",
       " Row(CrimeCode='4C', crime_count=8),\n",
       " Row(CrimeCode='6L', crime_count=7),\n",
       " Row(CrimeCode='7A', crime_count=6),\n",
       " Row(CrimeCode='5B', crime_count=5),\n",
       " Row(CrimeCode='1A', crime_count=4),\n",
       " Row(CrimeCode='9S', crime_count=4),\n",
       " Row(CrimeCode='3GF', crime_count=4),\n",
       " Row(CrimeCode='4B', crime_count=3),\n",
       " Row(CrimeCode='3AF', crime_count=3),\n",
       " Row(CrimeCode='6C', crime_count=2),\n",
       " Row(CrimeCode='4D', crime_count=2),\n",
       " Row(CrimeCode='6J', crime_count=2),\n",
       " Row(CrimeCode='3B', crime_count=1),\n",
       " Row(CrimeCode='2A', crime_count=1),\n",
       " Row(CrimeCode='4A', crime_count=1)]"
      ]
     },
     "execution_count": 52,
     "metadata": {},
     "output_type": "execute_result"
    }
   ],
   "source": [
    "df2.select('CrimeCode').groupBy('CrimeCode').agg(count('CrimeCode').alias('crime_count')).sort('crime_count', ascending=False).collect()"
   ]
  },
  {
   "cell_type": "code",
   "execution_count": 53,
   "id": "3908e539",
   "metadata": {},
   "outputs": [
    {
     "name": "stderr",
     "output_type": "stream",
     "text": [
      "                                                                                \r"
     ]
    },
    {
     "data": {
      "text/plain": [
       "[Row(Neighborhood='DOWNTOWN', count=5)]"
      ]
     },
     "execution_count": 53,
     "metadata": {},
     "output_type": "execute_result"
    }
   ],
   "source": [
    "df2.select('Neighborhood').groupBy('Neighborhood').count().sort('count', ascending=False).take(1)"
   ]
  },
  {
   "cell_type": "code",
   "execution_count": 56,
   "id": "94027c37",
   "metadata": {},
   "outputs": [
    {
     "name": "stderr",
     "output_type": "stream",
     "text": [
      "                                                                                \r"
     ]
    },
    {
     "data": {
      "text/plain": [
       "[Row(month(CrimeDateTime)=9, count=99)]"
      ]
     },
     "execution_count": 56,
     "metadata": {},
     "output_type": "execute_result"
    }
   ],
   "source": [
    "df2.groupBy(month(df2.CrimeDateTime)).count().sort('count', ascending=False).select('month(CrimeDateTime)', 'count').collect()"
   ]
  },
  {
   "cell_type": "code",
   "execution_count": 57,
   "id": "2ce9f630",
   "metadata": {},
   "outputs": [
    {
     "name": "stderr",
     "output_type": "stream",
     "text": [
      "                                                                                \r"
     ]
    },
    {
     "name": "stdout",
     "output_type": "stream",
     "text": [
      "+-------+\n",
      "| Weapon|\n",
      "+-------+\n",
      "|     NA|\n",
      "|  HANDS|\n",
      "|  KNIFE|\n",
      "|  OTHER|\n",
      "|FIREARM|\n",
      "+-------+\n",
      "\n"
     ]
    },
    {
     "name": "stderr",
     "output_type": "stream",
     "text": [
      "                                                                                \r"
     ]
    }
   ],
   "source": [
    "df2.select('Weapon').distinct().show()"
   ]
  },
  {
   "cell_type": "code",
   "execution_count": 59,
   "id": "7618c65b",
   "metadata": {},
   "outputs": [
    {
     "name": "stderr",
     "output_type": "stream",
     "text": [
      "[Stage 57:=========================================>            (154 + 1) / 200]\r"
     ]
    },
    {
     "name": "stdout",
     "output_type": "stream",
     "text": [
      "+-------+-----+\n",
      "| Weapon|count|\n",
      "+-------+-----+\n",
      "|FIREARM|   16|\n",
      "+-------+-----+\n",
      "only showing top 1 row\n",
      "\n"
     ]
    },
    {
     "name": "stderr",
     "output_type": "stream",
     "text": [
      "                                                                                \r"
     ]
    }
   ],
   "source": [
    "invalid_weapons=['NA', 'OTHER']\n",
    "df2.filter(~df2.Weapon.isin(invalid_weapons)).select('Weapon').groupBy('Weapon').count().sort('count', ascending=False).show(1)"
   ]
  },
  {
   "cell_type": "code",
   "execution_count": 60,
   "id": "c3d9d6f5",
   "metadata": {},
   "outputs": [
    {
     "name": "stdout",
     "output_type": "stream",
     "text": [
      "== Parsed Logical Plan ==\n",
      "'Sort ['count DESC NULLS LAST], true\n",
      "+- Aggregate [Weapon#581], [Weapon#581, count(1) AS count#4592L]\n",
      "   +- Project [Weapon#581]\n",
      "      +- Filter NOT Weapon#581 IN (NA,OTHER)\n",
      "         +- Relation[X#573,Y#574,RowID#575,CrimeDateTime#576,CrimeCode#577,Location#578,Description#579,Inside_Outside#580,Weapon#581,Post#582,District#583,Neighborhood#584,Latitude#585,Longitude#586,GeoLocation#587,Premise#588,VRIName#589,Total_Incidents#590] csv\n",
      "\n",
      "== Analyzed Logical Plan ==\n",
      "Weapon: string, count: bigint\n",
      "Sort [count#4592L DESC NULLS LAST], true\n",
      "+- Aggregate [Weapon#581], [Weapon#581, count(1) AS count#4592L]\n",
      "   +- Project [Weapon#581]\n",
      "      +- Filter NOT Weapon#581 IN (NA,OTHER)\n",
      "         +- Relation[X#573,Y#574,RowID#575,CrimeDateTime#576,CrimeCode#577,Location#578,Description#579,Inside_Outside#580,Weapon#581,Post#582,District#583,Neighborhood#584,Latitude#585,Longitude#586,GeoLocation#587,Premise#588,VRIName#589,Total_Incidents#590] csv\n",
      "\n",
      "== Optimized Logical Plan ==\n",
      "Sort [count#4592L DESC NULLS LAST], true\n",
      "+- Aggregate [Weapon#581], [Weapon#581, count(1) AS count#4592L]\n",
      "   +- Project [Weapon#581]\n",
      "      +- Filter NOT Weapon#581 IN (NA,OTHER)\n",
      "         +- InMemoryRelation [X#573, Y#574, RowID#575, CrimeDateTime#576, CrimeCode#577, Location#578, Description#579, Inside_Outside#580, Weapon#581, Post#582, District#583, Neighborhood#584, Latitude#585, Longitude#586, GeoLocation#587, Premise#588, VRIName#589, Total_Incidents#590], StorageLevel(disk, memory, deserialized, 1 replicas)\n",
      "               +- FileScan csv [X#573,Y#574,RowID#575,CrimeDateTime#576,CrimeCode#577,Location#578,Description#579,Inside_Outside#580,Weapon#581,Post#582,District#583,Neighborhood#584,Latitude#585,Longitude#586,GeoLocation#587,Premise#588,VRIName#589,Total_Incidents#590] Batched: false, DataFilters: [], Format: CSV, Location: InMemoryFileIndex[file:/home/jovyan/sample.csv], PartitionFilters: [], PushedFilters: [], ReadSchema: struct<X:double,Y:double,RowID:int,CrimeDateTime:timestamp,CrimeCode:string,Location:string,Descr...\n",
      "\n",
      "== Physical Plan ==\n",
      "*(3) Sort [count#4592L DESC NULLS LAST], true, 0\n",
      "+- Exchange rangepartitioning(count#4592L DESC NULLS LAST, 200), ENSURE_REQUIREMENTS, [id=#440]\n",
      "   +- *(2) HashAggregate(keys=[Weapon#581], functions=[count(1)], output=[Weapon#581, count#4592L])\n",
      "      +- Exchange hashpartitioning(Weapon#581, 200), ENSURE_REQUIREMENTS, [id=#436]\n",
      "         +- *(1) HashAggregate(keys=[Weapon#581], functions=[partial_count(1)], output=[Weapon#581, count#4866L])\n",
      "            +- *(1) Filter NOT Weapon#581 IN (NA,OTHER)\n",
      "               +- InMemoryTableScan [Weapon#581], [NOT Weapon#581 IN (NA,OTHER)]\n",
      "                     +- InMemoryRelation [X#573, Y#574, RowID#575, CrimeDateTime#576, CrimeCode#577, Location#578, Description#579, Inside_Outside#580, Weapon#581, Post#582, District#583, Neighborhood#584, Latitude#585, Longitude#586, GeoLocation#587, Premise#588, VRIName#589, Total_Incidents#590], StorageLevel(disk, memory, deserialized, 1 replicas)\n",
      "                           +- FileScan csv [X#573,Y#574,RowID#575,CrimeDateTime#576,CrimeCode#577,Location#578,Description#579,Inside_Outside#580,Weapon#581,Post#582,District#583,Neighborhood#584,Latitude#585,Longitude#586,GeoLocation#587,Premise#588,VRIName#589,Total_Incidents#590] Batched: false, DataFilters: [], Format: CSV, Location: InMemoryFileIndex[file:/home/jovyan/sample.csv], PartitionFilters: [], PushedFilters: [], ReadSchema: struct<X:double,Y:double,RowID:int,CrimeDateTime:timestamp,CrimeCode:string,Location:string,Descr...\n",
      "\n"
     ]
    }
   ],
   "source": [
    "invalid_weapons=['NA', 'OTHER']\n",
    "df2.filter(~df2.Weapon.isin(invalid_weapons)).select('Weapon').groupBy('Weapon').count().sort('count', ascending=False).explain(True)"
   ]
  },
  {
   "cell_type": "code",
   "execution_count": 61,
   "id": "1a5c3d5d",
   "metadata": {},
   "outputs": [
    {
     "data": {
      "text/plain": [
       "[Database(name='default', description='default database', locationUri='file:/home/jovyan/spark-warehouse')]"
      ]
     },
     "execution_count": 61,
     "metadata": {},
     "output_type": "execute_result"
    }
   ],
   "source": [
    "spark.catalog.listDatabases()"
   ]
  },
  {
   "cell_type": "code",
   "execution_count": 62,
   "id": "456ac427",
   "metadata": {},
   "outputs": [
    {
     "data": {
      "text/plain": [
       "[]"
      ]
     },
     "execution_count": 62,
     "metadata": {},
     "output_type": "execute_result"
    }
   ],
   "source": [
    "spark.catalog.listTables()"
   ]
  },
  {
   "cell_type": "code",
   "execution_count": null,
   "id": "03e30df0",
   "metadata": {},
   "outputs": [],
   "source": []
  }
 ],
 "metadata": {
  "kernelspec": {
   "display_name": "Python 3 (ipykernel)",
   "language": "python",
   "name": "python3"
  },
  "language_info": {
   "codemirror_mode": {
    "name": "ipython",
    "version": 3
   },
   "file_extension": ".py",
   "mimetype": "text/x-python",
   "name": "python",
   "nbconvert_exporter": "python",
   "pygments_lexer": "ipython3",
   "version": "3.9.6"
  }
 },
 "nbformat": 4,
 "nbformat_minor": 5
}
